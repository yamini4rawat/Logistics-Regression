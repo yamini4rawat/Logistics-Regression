{
  "nbformat": 4,
  "nbformat_minor": 0,
  "metadata": {
    "colab": {
      "name": "Assignment2.ipynb",
      "version": "0.3.2",
      "provenance": [],
      "collapsed_sections": [],
      "include_colab_link": true
    },
    "kernelspec": {
      "name": "python3",
      "display_name": "Python 3"
    }
  },
  "cells": [
    {
      "cell_type": "markdown",
      "metadata": {
        "id": "view-in-github",
        "colab_type": "text"
      },
      "source": [
        "<a href=\"https://colab.research.google.com/github/yamraw/Logistics-Regression/blob/master/Assignment2.ipynb\" target=\"_parent\"><img src=\"https://colab.research.google.com/assets/colab-badge.svg\" alt=\"Open In Colab\"/></a>"
      ]
    },
    {
      "metadata": {
        "id": "WuN-EnGAmHcf",
        "colab_type": "code",
        "colab": {}
      },
      "cell_type": "code",
      "source": [
        ""
      ],
      "execution_count": 0,
      "outputs": []
    },
    {
      "metadata": {
        "id": "HbpSw24YmZjh",
        "colab_type": "text"
      },
      "cell_type": "markdown",
      "source": [
        "   \n",
        "\n",
        "\n",
        "\n",
        "# Backpropagation Step by Step\n",
        "\n",
        "\n",
        "\n",
        " ![alt text](https://hmkcode.github.io/images/ai/backpropagation.png)\n",
        "   \n",
        "\n",
        "If you are building your own neural network, you will definitely need to understand how to train it. \tBackpropagation is a commonly used technique for training neural network. There are many resources explaining the technique,  but this post will explain backpropagation with concrete example in a very detailed colorful steps. \n",
        "\n",
        "## Overview\n",
        "\n",
        "In this post, we will build a neural network with three layers:\n",
        "\n",
        "- **Input** layer with two inputs neurons\n",
        "- One **hidden** layer with two neurons\n",
        "- **Output** layer with a single neuron\n",
        "\n",
        "![android-tabs](http://hmkcode.github.io/images/ai/nn1.png)\n",
        "\n",
        "## Weights, weights, weights\n",
        "\n",
        "Neural network training is about finding weights that minimize prediction error. We usually start our training with a set of randomly generated weights.Then, backpropagation is used to update the weights in an attempt to correctly map arbitrary inputs to outputs.\n",
        "\n",
        "Our initial weights will be as following: `w1 = 0.31, `w2 = 0.41`, `w3 = 0.19`, `w4 = 0.12`, `w5 = 0.18` and `w6 = 0.20`\n",
        "\n",
        "![alt text](https://github.com/yamraw/image/blob/master/bp_weights_New.png?raw=true)\n",
        "\n",
        "## Dataset\n",
        "\n",
        "Our dataset has one sample with two inputs and one output.\n",
        "\n",
        "![dataset](http://hmkcode.github.io/images/ai/bp_dataset.png)\n",
        "\n",
        "Our single sample is as following `inputs=[2, 3]` and `output=[1]`.\n",
        "\n",
        "![training_sample](http://hmkcode.github.io/images/ai/bp_sample.png)\n",
        "\n",
        "## Forward Pass\n",
        "\n",
        "We will use given weights and inputs to predict the output. Inputs are multiplied by weights; the results are then passed forward to next layer.\n",
        "\n",
        "![alt text](https://github.com/yamraw/image/blob/master/bp_forward.png?raw=true)\n",
        "      \n",
        "\n",
        "```\n",
        " \n",
        "```\n",
        "\n",
        "## Calculating Error\n",
        "\n",
        "Now, it’s time to find out how our network performed by calculating the difference between the actual output and predicted one. It’s clear that our network output, or **prediction**, is not even close to **actual output**. We can calculate the difference or the error as following.\n",
        "\n",
        "![alt text](https://github.com/yamraw/image/blob/master/bp_error.png?raw=true)\n",
        "\n",
        "## Reducing Error\n",
        "\n",
        "Our main goal of the training is to reduce the **error** or the difference between **prediction** and **actual output**. Since **actual output** is constant, “not changing”, the only way to reduce the error is to change **prediction** value. The question now is, how to change **prediction** value?\n",
        "\n",
        "By decomposing **prediction** into its basic elements we can find that **weights** are the variable elements affecting **prediction** value. In other words, in order to change **prediction** value, we need to change **weights** values.\n",
        "\n",
        "![bp_prediction_elements](http://hmkcode.github.io/images/ai/bp_prediction_elements.png)\n",
        "\n",
        "> The question now is **how to change\\update the weights value so that the error is reduced?**\n",
        "> The answer is **Backpropagation!**\n",
        "\n",
        "## **Backpropagation**\n",
        "\n",
        "**Backpropagation**,  short for “backward propagation of errors”, is a mechanism used to update the **weights** using [gradient descent](https://en.wikipedia.org/wiki/Gradient_descent). It calculates the gradient of the error function with respect to the neural network’s weights. The calculation proceeds backwards through the network.\n",
        "\n",
        "> **Gradient descent** is an iterative optimization algorithm for finding the minimum of a function; in our case we want to minimize th error function. To find a local minimum of a function using gradient descent, one takes steps proportional to the negative of the gradient of the function at the current point.\n",
        "\n",
        "![bp_update_formula](http://hmkcode.github.io/images/ai/bp_update_formula.png)\n",
        "\n",
        "For example, to update `w6`, we take the current `w6` and subtract the partial derivative of **error** function with respect to `w6`. Optionally, we multiply the derivative of the **error** function by a selected number to make sure that the new updated **weight** is minimizing the error function; this number is called **learning rate**.\n",
        "\n",
        "![update w6](http://hmkcode.github.io/images/ai/bp_w6_update.png)\n",
        "\n",
        "The derivation of the error function is evaluated by applying the chain rule as following\n",
        "\n",
        "![finding partial derivative with respect to w6](http://hmkcode.github.io/images/ai/bp_error_function_partial_derivative_w6.png)\n",
        "\n",
        "So to update `w6` we can apply the following formula\n",
        "\n",
        "![bp_w6_update_closed_form.png](http://hmkcode.github.io/images/ai/bp_w6_update_closed_form.png)\n",
        "\n",
        "Similarly, we can derive the update formula for `w5` and any other weights existing between the output and the hidden layer.\n",
        "\n",
        "![bp_w5_update_closed_form.png](http://hmkcode.github.io/images/ai/bp_w5_update_closed_form.png)\n",
        "\n",
        "However, when moving backward to update `w1`, `w2`, `w3` and `w4` existing between input and hidden layer, the partial derivative for the error function with respect to `w1`, for example, will be as following.\n",
        "\n",
        "![finding partial derivative with respect to w1](http://hmkcode.github.io/images/ai/bp_error_function_partial_derivative_w1.png)\n",
        "\n",
        "We can find the update formula for the remaining weights `w2`, `w3` and `w4` in the same way.\n",
        "\n",
        "In summary, the update formulas for all weights will be as following:\n",
        "\n",
        "![bp_update_all_weights](http://hmkcode.github.io/images/ai/bp_update_all_weights.png)\n",
        "\n",
        "We can rewrite the update formulas in matrices as following\n",
        "\n",
        "![bp_update_all_weights_matrix](http://hmkcode.github.io/images/ai/bp_update_all_weights_matrix.png)\n",
        "\n",
        "## Backward Pass\n",
        "\n",
        "Using derived formulas we can find the new **weights**.\n",
        "\n",
        "> **Learning rate:** is a hyperparameter which means that we need to manually guess its value.\n",
        "\n",
        "![alt text](https://github.com/yamraw/image/blob/master/bp_new_weights.png?raw=true)\n",
        "\n",
        "Now, using the new **weights** we will repeat the forward passed\n",
        "\n",
        "![alt text](https://github.com/yamraw/image/blob/master/bp_forward_2updated%20weights.png?raw=true)\n",
        "\n",
        "We can notice that the **prediction** `0.78 is a little bit closer to **actual output** than the previously predicted one `0.191`. We can repeat the same process of backward and forward pass until **error** is close or equal to zero.\n",
        "\n",
        "​                \n",
        "\n",
        "<iframe name=\"dsq-app6125\" width=\"100%\" tabindex=\"0\" title=\"Disqus\" id=\"dsq-app6125\" src=\"https://disqus.com/embed/comments/?base=default&amp;f=hmkcode&amp;t_u=https%3A%2F%2Fhmkcode.github.io%2Fai%2Fbackpropagation-step-by-step%2F&amp;t_d=%20Backpropagation%20Step%20by%20Step&amp;t_t=%20Backpropagation%20Step%20by%20Step&amp;s_o=default&amp;d_m=0#version=884cf41099cd8dae8f67a05fd265c45a\" frameborder=\"0\" scrolling=\"no\" style=\"border-bottom-color: rgb(0, 0, 0); border-bottom-style: none; border-bottom-width: 0px; border-image-outset: 0; border-image-repeat: stretch; border-image-slice: 100%; border-image-source: none; border-image-width: 1; border-left-color: rgb(0, 0, 0); border-left-style: none; border-left-width: 0px; border-right-color: rgb(0, 0, 0); border-right-style: none; border-right-width: 0px; border-top-color: rgb(0, 0, 0); border-top-style: none; border-top-width: 0px; height: 0px; min-width: 816px; overflow: hidden; width: 816px;\" allowtransparency=\"true\" horizontalscrolling=\"no\" verticalscrolling=\"no\"></iframe>\n",
        "\n",
        "------\n",
        "\n",
        "​                \t \t \t \t                                 \t \t \t \t       \t \t \t \t           \t \t \t \t                                \n",
        "\n",
        "\n",
        "\n",
        "   \n"
      ]
    },
    {
      "metadata": {
        "id": "W6eUSZpocmIf",
        "colab_type": "code",
        "colab": {
          "base_uri": "https://localhost:8080/",
          "height": 34
        },
        "outputId": "e5faa06f-c008-4f27-9d47-293f0622e148"
      },
      "cell_type": "code",
      "source": [
        "w1=.31\n",
        "w2=.41\n",
        "w3=.19\n",
        "w4=.12\n",
        "w5=.18\n",
        "w6=.20\n",
        "import numpy as np\n",
        "int_input=np.array([[2,3]])\n",
        "weight1 = np.array([[w1,w3],[w2,w4]])\n",
        "#print(wbh)\n",
        "int_h=np.dot(int_input,weight1)\n",
        "weight2=np.array([[w5],[w6]])\n",
        "out=np.dot(int_h,weight2)\n",
        "print(out)\n",
        " \n",
        "\n",
        "\n"
      ],
      "execution_count": 7,
      "outputs": [
        {
          "output_type": "stream",
          "text": [
            "[[0.481]]\n"
          ],
          "name": "stdout"
        }
      ]
    },
    {
      "metadata": {
        "id": "BvYdN2sCdQch",
        "colab_type": "code",
        "colab": {}
      },
      "cell_type": "code",
      "source": [
        "#Calcualating the error\n",
        "Actual =1\n",
        "Error=(1/2)*(out[0][0]-Actual)**2\n",
        " \n",
        "\n"
      ],
      "execution_count": 0,
      "outputs": []
    },
    {
      "metadata": {
        "id": "aarZNgsvdTbm",
        "colab_type": "code",
        "colab": {}
      },
      "cell_type": "code",
      "source": [
        "#defining learning rate and find the delta\n",
        "lr=0.06\n",
        "Delta=out[0][0]-Actual\n",
        "lrd= lr*Delta\n",
        " \n"
      ],
      "execution_count": 0,
      "outputs": []
    },
    {
      "metadata": {
        "id": "7bKqxTJddVfj",
        "colab_type": "code",
        "colab": {
          "base_uri": "https://localhost:8080/",
          "height": 51
        },
        "outputId": "343d926a-8eca-47b9-9bc1-b06ef7c5ff79"
      },
      "cell_type": "code",
      "source": [
        "#Backprop\n",
        "w5_w6  =weight2-(np.transpose(int_h)*lrd)\n",
        "w1_w2_w3_w4 = weight1-(np.dot(np.transpose(int_input)*lrd,np.transpose(weight2)))\n",
        "#print(w1_w2_w3_w4)\n",
        " \n"
      ],
      "execution_count": 12,
      "outputs": [
        {
          "output_type": "stream",
          "text": [
            "[[0.3212104 0.202456 ]\n",
            " [0.4268156 0.138684 ]]\n"
          ],
          "name": "stdout"
        }
      ]
    },
    {
      "metadata": {
        "id": "S6lCro5vdXia",
        "colab_type": "code",
        "colab": {}
      },
      "cell_type": "code",
      "source": [
        "#Forward pass\n",
        "new_h=np.dot(inp,bw1234)\n",
        "new_out=np.dot(nwhid,bw56)"
      ],
      "execution_count": 0,
      "outputs": []
    }
  ]
}